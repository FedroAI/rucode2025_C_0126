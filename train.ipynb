{
 "cells": [
  {
   "cell_type": "code",
   "execution_count": 1,
   "id": "d0084cd4",
   "metadata": {},
   "outputs": [],
   "source": [
    "import warnings \n",
    "warnings.filterwarnings('ignore')"
   ]
  },
  {
   "cell_type": "code",
   "execution_count": 2,
   "id": "590f924f",
   "metadata": {},
   "outputs": [
    {
     "name": "stdout",
     "output_type": "stream",
     "text": [
      "Using seed: 1001\n"
     ]
    }
   ],
   "source": [
    "import pandas as pd\n",
    "import numpy as np\n",
    "import torch\n",
    "import torch.nn as nn\n",
    "import torch.optim as optim\n",
    "from torch.utils.data import Dataset, DataLoader\n",
    "from sklearn.model_selection import train_test_split\n",
    "from sklearn.preprocessing import LabelEncoder\n",
    "from transformers import BertConfig, BertModel\n",
    "from tqdm import tqdm\n",
    "import random\n",
    "import os\n",
    "import datetime\n",
    "\n",
    "# Фиксируем seed для воспроизводимости\n",
    "seed = 1001 \n",
    "random.seed(seed)\n",
    "np.random.seed(seed)\n",
    "torch.manual_seed(seed)\n",
    "torch.cuda.manual_seed_all(seed)\n",
    "torch.backends.cudnn.deterministic = True\n",
    "torch.cuda.manual_seed_all(seed)\n",
    "torch.backends.cudnn.deterministic = True\n",
    "torch.backends.cudnn.benchmark = False\n",
    "os.environ['PYTHONHASHSEED'] = str(seed)\n",
    "\n",
    "print(f\"Using seed: {seed}\")"
   ]
  },
  {
   "cell_type": "code",
   "execution_count": 3,
   "id": "f2e80106",
   "metadata": {},
   "outputs": [
    {
     "name": "stdout",
     "output_type": "stream",
     "text": [
      "Interactions shape: (922967, 5)\n",
      "Users shape: (840197, 5)\n",
      "Items shape: (15963, 13)\n",
      "Test users shape: (198636, 1)\n"
     ]
    }
   ],
   "source": [
    "interactions = pd.read_csv('interactions_train.csv')\n",
    "users = pd.read_csv('users.csv')\n",
    "items = pd.read_csv('items.csv')\n",
    "test_users = pd.read_csv('users_public_test.csv')\n",
    "sample_submission = pd.read_csv('sample_submission.csv')\n",
    "\n",
    "print(\"Interactions shape:\", interactions.shape)\n",
    "print(\"Users shape:\", users.shape)\n",
    "print(\"Items shape:\", items.shape)\n",
    "print(\"Test users shape:\", test_users.shape)"
   ]
  },
  {
   "cell_type": "code",
   "execution_count": 4,
   "id": "97772515",
   "metadata": {},
   "outputs": [],
   "source": [
    "interactions['last_watch_dt'] = pd.to_datetime(interactions['last_watch_dt'])\n",
    "interactions = interactions.sort_values(by=['user_id', 'last_watch_dt'])\n",
    "\n",
    "user_sequences = interactions.groupby('user_id')['item_id'].apply(list).reset_index()\n",
    "\n",
    "user_sequences = user_sequences.merge(users, on='user_id', how='left')\n",
    "\n",
    "items['text'] = items['title'].fillna('') + ' ' + items['genres'].fillna('') + ' ' + items['countries'].fillna('') + ' ' + items['directors'].fillna('') + ' ' + items['actors'].fillna('') + ' ' + items['keywords'].fillna('')\n",
    "\n",
    "item_encoder = LabelEncoder()\n",
    "all_items = interactions['item_id'].unique()\n",
    "item_encoder.fit(all_items)\n",
    "num_items = len(item_encoder.classes_)\n",
    "\n",
    "user_sequences['encoded_seq'] = user_sequences['item_id'].apply(lambda x: item_encoder.transform(x))"
   ]
  },
  {
   "cell_type": "code",
   "execution_count": 5,
   "id": "24eb3031",
   "metadata": {},
   "outputs": [],
   "source": [
    "class RecDataset(Dataset):\n",
    "    def __init__(self, sequences, max_len=50):\n",
    "        self.sequences = sequences\n",
    "        self.max_len = max_len\n",
    "    \n",
    "    def __len__(self):\n",
    "        return len(self.sequences)\n",
    "    \n",
    "    def __getitem__(self, idx):\n",
    "        seq = self.sequences.iloc[idx]['encoded_seq'].tolist()\n",
    "        if len(seq) > self.max_len:\n",
    "            seq = seq[-self.max_len:]\n",
    "        else:\n",
    "            seq = [0] * (self.max_len - len(seq)) + seq  \n",
    "        \n",
    "        masked_seq = seq.copy()\n",
    "        labels = [-100] * len(seq)  \n",
    "        mask_pos = random.randint(0, len(seq)-1)\n",
    "        labels[mask_pos] = seq[mask_pos]\n",
    "        masked_seq[mask_pos] = num_items \n",
    "        \n",
    "        return {\n",
    "            'input_ids': torch.tensor(masked_seq),\n",
    "            'labels': torch.tensor(labels)\n",
    "        }\n",
    "\n",
    "train_seq, val_seq = train_test_split(user_sequences, test_size=0.2, random_state=seed)\n",
    "\n",
    "train_ds = RecDataset(train_seq)\n",
    "val_ds = RecDataset(val_seq)\n",
    "\n",
    "train_dl = DataLoader(train_ds, batch_size=32, num_workers = 0)\n",
    "val_dl = DataLoader(val_ds, batch_size=32, num_workers = 0)"
   ]
  },
  {
   "cell_type": "code",
   "execution_count": 6,
   "id": "2744c393",
   "metadata": {},
   "outputs": [
    {
     "data": {
      "text/plain": [
       "{'input_ids': tensor([[    0,     0,     0,  ...,  2590,  5187,  4498],\n",
       "         [    0,     0,     0,  ...,  1701, 11856,   950],\n",
       "         [    0,     0,     0,  ...,  4497, 11856, 10044],\n",
       "         ...,\n",
       "         [    0,     0,     0,  ..., 11856,     0,    94],\n",
       "         [    0,     0,     0,  ..., 10533,  2868,  7488],\n",
       "         [    0,     0,     0,  ...,  5677,  5187,  9705]]),\n",
       " 'labels': tensor([[ -100,  -100,  -100,  ...,  -100,  -100,  -100],\n",
       "         [ -100,  -100,  -100,  ...,  -100, 10587,  -100],\n",
       "         [ -100,  -100,  -100,  ...,  -100,  7415,  -100],\n",
       "         ...,\n",
       "         [ -100,  -100,  -100,  ...,     0,  -100,  -100],\n",
       "         [ -100,  -100,  -100,  ...,  -100,  -100,  -100],\n",
       "         [ -100,  -100,  -100,  ...,  -100,  -100,  -100]])}"
      ]
     },
     "execution_count": 6,
     "metadata": {},
     "output_type": "execute_result"
    }
   ],
   "source": [
    "next(iter(train_dl))"
   ]
  },
  {
   "cell_type": "code",
   "execution_count": 7,
   "id": "63916c12",
   "metadata": {},
   "outputs": [
    {
     "data": {
      "text/plain": [
       "{'input_ids': tensor([[    0,     0,     0,  ...,     0,     0,  5187],\n",
       "         [    0,     0,     0,  ...,  9508,  8546,  1631],\n",
       "         [    0,     0,     0,  ...,  3672,  2710,  5187],\n",
       "         ...,\n",
       "         [    0,     0,     0,  ...,     0,     0,  2590],\n",
       "         [    0,     0,     0,  ...,  6994, 11127,   342],\n",
       "         [    0,     0,     0,  ...,  6437,  6973, 11856]]),\n",
       " 'labels': tensor([[-100, -100, -100,  ..., -100, -100, -100],\n",
       "         [-100, -100, -100,  ..., -100, -100, -100],\n",
       "         [-100, -100, -100,  ..., -100, -100, -100],\n",
       "         ...,\n",
       "         [-100, -100, -100,  ..., -100, -100, -100],\n",
       "         [-100, -100, -100,  ..., -100, -100, -100],\n",
       "         [-100, -100, -100,  ..., -100, -100, 2597]])}"
      ]
     },
     "execution_count": 7,
     "metadata": {},
     "output_type": "execute_result"
    }
   ],
   "source": [
    "next(iter(val_dl))"
   ]
  },
  {
   "cell_type": "code",
   "execution_count": 8,
   "id": "6f0f695f",
   "metadata": {},
   "outputs": [],
   "source": [
    "class BERT4Rec(nn.Module):\n",
    "    def __init__(self, num_items, embed_dim=128//2, num_layers=2, num_heads=2):\n",
    "        super().__init__()\n",
    "        self.item_embedding = nn.Embedding(num_items + 2, embed_dim)  \n",
    "        config = BertConfig(\n",
    "            vocab_size=num_items + 2,\n",
    "            hidden_size=embed_dim,\n",
    "            num_hidden_layers=num_layers,\n",
    "            num_attention_heads=num_heads,\n",
    "            intermediate_size=embed_dim * 4,\n",
    "            max_position_embeddings=512\n",
    "        )\n",
    "        self.transformer = BertModel(config)\n",
    "        self.fc = nn.Linear(embed_dim, num_items)\n",
    "    \n",
    "    def forward(self, input_ids, labels=None):\n",
    "        embeds = self.item_embedding(input_ids)\n",
    "        outputs = self.transformer(inputs_embeds=embeds)\n",
    "        logits = self.fc(outputs.last_hidden_state)\n",
    "        \n",
    "        loss = None\n",
    "        if labels is not None:\n",
    "            loss_fct = nn.CrossEntropyLoss(ignore_index=-100)\n",
    "            loss = loss_fct(logits.view(-1, num_items), labels.view(-1))\n",
    "        \n",
    "        return logits, loss"
   ]
  },
  {
   "cell_type": "code",
   "execution_count": 9,
   "id": "8fc87f1a",
   "metadata": {},
   "outputs": [
    {
     "name": "stderr",
     "output_type": "stream",
     "text": [
      "100%|██████████| 7125/7125 [00:55<00:00, 127.28it/s]\n",
      "100%|██████████| 1782/1782 [00:05<00:00, 310.15it/s]\n"
     ]
    },
    {
     "name": "stdout",
     "output_type": "stream",
     "text": [
      "Epoch 0: Train Loss 0.8210117305652483, Val Loss 0.5314941075413595\n",
      "\n"
     ]
    },
    {
     "name": "stderr",
     "output_type": "stream",
     "text": [
      "100%|██████████| 7125/7125 [00:56<00:00, 126.00it/s]\n",
      "100%|██████████| 1782/1782 [00:08<00:00, 212.16it/s]\n"
     ]
    },
    {
     "name": "stdout",
     "output_type": "stream",
     "text": [
      "Epoch 1: Train Loss 0.5324103142973403, Val Loss 0.5301605664804467\n",
      "\n"
     ]
    },
    {
     "name": "stderr",
     "output_type": "stream",
     "text": [
      "100%|██████████| 7125/7125 [00:49<00:00, 142.71it/s]\n",
      "100%|██████████| 1782/1782 [00:06<00:00, 293.97it/s]\n"
     ]
    },
    {
     "name": "stdout",
     "output_type": "stream",
     "text": [
      "Epoch 2: Train Loss 0.5207085148772049, Val Loss 0.538770653993007\n",
      "\n"
     ]
    },
    {
     "name": "stderr",
     "output_type": "stream",
     "text": [
      "100%|██████████| 7125/7125 [00:49<00:00, 143.13it/s]\n",
      "100%|██████████| 1782/1782 [00:05<00:00, 302.25it/s]\n"
     ]
    },
    {
     "name": "stdout",
     "output_type": "stream",
     "text": [
      "Epoch 3: Train Loss 0.515234497968373, Val Loss 0.5182544456437886\n",
      "\n"
     ]
    },
    {
     "name": "stderr",
     "output_type": "stream",
     "text": [
      "100%|██████████| 7125/7125 [01:22<00:00, 85.87it/s] \n",
      "100%|██████████| 1782/1782 [00:06<00:00, 294.43it/s]"
     ]
    },
    {
     "name": "stdout",
     "output_type": "stream",
     "text": [
      "Epoch 4: Train Loss 0.5190841801961621, Val Loss 0.5300840243060329\n",
      "\n",
      "Model saved to bert4rec_seed1001.pth\n"
     ]
    },
    {
     "name": "stderr",
     "output_type": "stream",
     "text": [
      "\n"
     ]
    }
   ],
   "source": [
    "device = torch.device('cuda' if torch.cuda.is_available() else 'cpu')\n",
    "model = BERT4Rec(num_items).to(device)\n",
    "optimizer = optim.Adam(model.parameters(), lr=1e-4)\n",
    "\n",
    "def train_epoch(dl):\n",
    "    model.train()\n",
    "    total_loss = 0\n",
    "    for batch in tqdm(dl):\n",
    "        input_ids = batch['input_ids'].to(device)\n",
    "        labels = batch['labels'].to(device)\n",
    "        optimizer.zero_grad()\n",
    "        _, loss = model(input_ids, labels)\n",
    "        loss.backward()\n",
    "        optimizer.step()\n",
    "        total_loss += loss.item()\n",
    "    return total_loss / len(dl)\n",
    "\n",
    "def val_epoch(dl):\n",
    "    model.eval()\n",
    "    total_loss = 0\n",
    "    with torch.no_grad():\n",
    "        for batch in tqdm(dl):\n",
    "            input_ids = batch['input_ids'].to(device)\n",
    "            labels = batch['labels'].to(device)\n",
    "            _, loss = model(input_ids, labels)\n",
    "            total_loss += loss.item()\n",
    "    return total_loss / len(dl)\n",
    "\n",
    "for epoch in range(5): \n",
    "    train_loss = train_epoch(train_dl)\n",
    "    val_loss = val_epoch(val_dl)\n",
    "    print(f\"Epoch {epoch}: Train Loss {train_loss}, Val Loss {val_loss}\\n\")\n",
    "\n",
    "timestamp = datetime.datetime.now().strftime(\"%Y%m%d_%H%M%S\")\n",
    "model_path = f\"bert4rec_seed{seed}.pth\"\n",
    "torch.save(model.state_dict(), model_path)\n",
    "print(f\"Model saved to {model_path}\")"
   ]
  },
  {
   "cell_type": "code",
   "execution_count": null,
   "id": "742a4a16",
   "metadata": {},
   "outputs": [],
   "source": []
  }
 ],
 "metadata": {
  "kernelspec": {
   "display_name": "Python 3",
   "language": "python",
   "name": "python3"
  },
  "language_info": {
   "codemirror_mode": {
    "name": "ipython",
    "version": 3
   },
   "file_extension": ".py",
   "mimetype": "text/x-python",
   "name": "python",
   "nbconvert_exporter": "python",
   "pygments_lexer": "ipython3",
   "version": "3.11.9"
  }
 },
 "nbformat": 4,
 "nbformat_minor": 5
}
