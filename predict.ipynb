{
 "cells": [
  {
   "cell_type": "code",
   "execution_count": 1,
   "id": "d0084cd4",
   "metadata": {},
   "outputs": [],
   "source": [
    "import warnings \n",
    "warnings.filterwarnings('ignore')"
   ]
  },
  {
   "cell_type": "code",
   "execution_count": 2,
   "id": "590f924f",
   "metadata": {},
   "outputs": [
    {
     "name": "stdout",
     "output_type": "stream",
     "text": [
      "Using seed: 1001\n"
     ]
    }
   ],
   "source": [
    "import pandas as pd\n",
    "import numpy as np\n",
    "import torch\n",
    "import torch.nn as nn\n",
    "import torch.optim as optim\n",
    "from torch.utils.data import Dataset, DataLoader\n",
    "from sklearn.model_selection import train_test_split\n",
    "from sklearn.preprocessing import LabelEncoder\n",
    "from transformers import BertConfig, BertModel\n",
    "from tqdm import tqdm\n",
    "import random\n",
    "import os\n",
    "import datetime\n",
    "\n",
    "# Фиксируем seed для воспроизводимости\n",
    "seed = 1001 \n",
    "random.seed(seed)\n",
    "np.random.seed(seed)\n",
    "torch.manual_seed(seed)\n",
    "torch.cuda.manual_seed_all(seed)\n",
    "torch.backends.cudnn.deterministic = True\n",
    "torch.cuda.manual_seed_all(seed)\n",
    "torch.backends.cudnn.deterministic = True\n",
    "torch.backends.cudnn.benchmark = False\n",
    "os.environ['PYTHONHASHSEED'] = str(seed)\n",
    "\n",
    "print(f\"Using seed: {seed}\")"
   ]
  },
  {
   "cell_type": "code",
   "execution_count": 3,
   "id": "f2e80106",
   "metadata": {},
   "outputs": [
    {
     "name": "stdout",
     "output_type": "stream",
     "text": [
      "Interactions shape: (922967, 5)\n",
      "Users shape: (840197, 5)\n",
      "Items shape: (15963, 13)\n",
      "Test users shape: (198636, 1)\n"
     ]
    }
   ],
   "source": [
    "interactions = pd.read_csv('interactions_train.csv')\n",
    "users = pd.read_csv('users.csv')\n",
    "items = pd.read_csv('items.csv')\n",
    "# test_users = pd.read_csv('users_public_test.csv')\n",
    "test_users = pd.read_csv('users_private_test.csv')\n",
    "sample_submission = pd.read_csv('sample_submission.csv')\n",
    "\n",
    "print(\"Interactions shape:\", interactions.shape)\n",
    "print(\"Users shape:\", users.shape)\n",
    "print(\"Items shape:\", items.shape)\n",
    "print(\"Test users shape:\", test_users.shape)"
   ]
  },
  {
   "cell_type": "code",
   "execution_count": 4,
   "id": "97772515",
   "metadata": {},
   "outputs": [],
   "source": [
    "interactions['last_watch_dt'] = pd.to_datetime(interactions['last_watch_dt'])\n",
    "interactions = interactions.sort_values(by=['user_id', 'last_watch_dt'])\n",
    "\n",
    "user_sequences = interactions.groupby('user_id')['item_id'].apply(list).reset_index()\n",
    "\n",
    "user_sequences = user_sequences.merge(users, on='user_id', how='left')\n",
    "\n",
    "items['text'] = items['title'].fillna('') + ' ' + items['genres'].fillna('') + ' ' + items['countries'].fillna('') + ' ' + items['directors'].fillna('') + ' ' + items['actors'].fillna('') + ' ' + items['keywords'].fillna('')\n",
    "\n",
    "item_encoder = LabelEncoder()\n",
    "all_items = interactions['item_id'].unique()\n",
    "item_encoder.fit(all_items)\n",
    "num_items = len(item_encoder.classes_)\n",
    "\n",
    "user_sequences['encoded_seq'] = user_sequences['item_id'].apply(lambda x: item_encoder.transform(x))"
   ]
  },
  {
   "cell_type": "code",
   "execution_count": 5,
   "id": "6f0f695f",
   "metadata": {},
   "outputs": [],
   "source": [
    "class BERT4Rec(nn.Module):\n",
    "    def __init__(self, num_items, embed_dim=128//2, num_layers=2, num_heads=2):\n",
    "        super().__init__()\n",
    "        self.item_embedding = nn.Embedding(num_items + 2, embed_dim)  \n",
    "        config = BertConfig(\n",
    "            vocab_size=num_items + 2,\n",
    "            hidden_size=embed_dim,\n",
    "            num_hidden_layers=num_layers,\n",
    "            num_attention_heads=num_heads,\n",
    "            intermediate_size=embed_dim * 4,\n",
    "            max_position_embeddings=512\n",
    "        )\n",
    "        self.transformer = BertModel(config)\n",
    "        self.fc = nn.Linear(embed_dim, num_items)\n",
    "    \n",
    "    def forward(self, input_ids, labels=None):\n",
    "        embeds = self.item_embedding(input_ids)\n",
    "        outputs = self.transformer(inputs_embeds=embeds)\n",
    "        logits = self.fc(outputs.last_hidden_state)\n",
    "        \n",
    "        loss = None\n",
    "        if labels is not None:\n",
    "            loss_fct = nn.CrossEntropyLoss(ignore_index=-100)\n",
    "            loss = loss_fct(logits.view(-1, num_items), labels.view(-1))\n",
    "        \n",
    "        return logits, loss"
   ]
  },
  {
   "cell_type": "code",
   "execution_count": 6,
   "id": "8fc87f1a",
   "metadata": {},
   "outputs": [],
   "source": [
    "device = torch.device('cuda' if torch.cuda.is_available() else 'cpu')\n",
    "model = BERT4Rec(num_items).to(device)\n",
    "optimizer = optim.Adam(model.parameters(), lr=1e-4)"
   ]
  },
  {
   "cell_type": "code",
   "execution_count": null,
   "id": "8807f813",
   "metadata": {},
   "outputs": [
    {
     "name": "stderr",
     "output_type": "stream",
     "text": [
      " 71%|███████   | 4380/6208 [01:21<00:39, 46.38it/s]"
     ]
    }
   ],
   "source": [
    "test_sequences = test_users.merge(interactions.groupby('user_id')['item_id'].apply(list), on='user_id', how='left')\n",
    "test_sequences['item_id'] = test_sequences['item_id'].fillna(\"\").apply(lambda x: x if isinstance(x, list) else [])\n",
    "test_sequences['encoded_seq'] = test_sequences['item_id'].apply(lambda x: item_encoder.transform(x).tolist() if x else [])\n",
    "model_path = f\"bert4rec_seed{seed}.pth\"\n",
    "\n",
    "class TestDataset(Dataset):\n",
    "    def __init__(self, sequences, max_len=50):\n",
    "        self.sequences = sequences\n",
    "        self.max_len = max_len\n",
    "    \n",
    "    def __len__(self):\n",
    "        return len(self.sequences)\n",
    "    \n",
    "    def __getitem__(self, idx):\n",
    "        seq = self.sequences.iloc[idx]['encoded_seq']  \n",
    "        user_id = self.sequences.iloc[idx]['user_id']\n",
    "        if len(seq) > self.max_len - 1:\n",
    "            seq = seq[-(self.max_len - 1):]\n",
    "        else:\n",
    "            seq = [0] * (self.max_len - 1 - len(seq)) + seq\n",
    "        seq.append(num_items)  \n",
    "        return {\n",
    "            'user_id': user_id,\n",
    "            'input_ids': torch.tensor(seq)\n",
    "        }\n",
    "\n",
    "test_ds = TestDataset(test_sequences)\n",
    "test_dl = DataLoader(test_ds, batch_size=32)\n",
    "\n",
    "model.load_state_dict(torch.load(model_path))\n",
    "model.eval()\n",
    "\n",
    "predictions = []\n",
    "with torch.no_grad():\n",
    "    for batch in tqdm(test_dl):\n",
    "        input_ids = batch['input_ids'].to(device)\n",
    "        logits, _ = model(input_ids)\n",
    "        last_logits = logits[:, -1, :]  \n",
    "        topk = torch.topk(last_logits, k=10, dim=-1).indices.cpu().numpy()\n",
    "        for u, tops in zip(batch['user_id'], topk):\n",
    "            top_items = item_encoder.inverse_transform(tops)\n",
    "            predictions.append([u] + list(top_items))\n",
    "\n",
    "sub_df = pd.DataFrame(predictions, columns=['user_id'] + [str(i) for i in range(10)])\n",
    "sub_df.to_csv(f\"submission_seed{seed}.csv\", index=False)\n",
    "print(\"Файл с предсказаниями создан.\")"
   ]
  },
  {
   "cell_type": "code",
   "execution_count": null,
   "id": "7b39fa88",
   "metadata": {},
   "outputs": [],
   "source": []
  }
 ],
 "metadata": {
  "kernelspec": {
   "display_name": "Python 3",
   "language": "python",
   "name": "python3"
  },
  "language_info": {
   "codemirror_mode": {
    "name": "ipython",
    "version": 3
   },
   "file_extension": ".py",
   "mimetype": "text/x-python",
   "name": "python",
   "nbconvert_exporter": "python",
   "pygments_lexer": "ipython3",
   "version": "3.11.9"
  }
 },
 "nbformat": 4,
 "nbformat_minor": 5
}
